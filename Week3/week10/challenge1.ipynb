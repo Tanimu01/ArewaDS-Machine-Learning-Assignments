{
 "cells": [
  {
   "cell_type": "code",
   "execution_count": 2,
   "metadata": {},
   "outputs": [
    {
     "ename": "error",
     "evalue": "OpenCV(4.7.0) D:\\a\\opencv-python\\opencv-python\\opencv\\modules\\imgproc\\src\\color.cpp:182: error: (-215:Assertion failed) !_src.empty() in function 'cv::cvtColor'\n",
     "output_type": "error",
     "traceback": [
      "\u001b[1;31m---------------------------------------------------------------------------\u001b[0m",
      "\u001b[1;31merror\u001b[0m                                     Traceback (most recent call last)",
      "Cell \u001b[1;32mIn[2], line 4\u001b[0m\n\u001b[0;32m      1\u001b[0m \u001b[39mfrom\u001b[39;00m \u001b[39mrlboard\u001b[39;00m \u001b[39mimport\u001b[39;00m \u001b[39m*\u001b[39m\n\u001b[0;32m      3\u001b[0m width, height \u001b[39m=\u001b[39m \u001b[39m8\u001b[39m,\u001b[39m8\u001b[39m\n\u001b[1;32m----> 4\u001b[0m m \u001b[39m=\u001b[39m Board(width,height)\n\u001b[0;32m      5\u001b[0m m\u001b[39m.\u001b[39mrandomize(seed\u001b[39m=\u001b[39m\u001b[39m13\u001b[39m)\n\u001b[0;32m      6\u001b[0m m\u001b[39m.\u001b[39mplot()\n",
      "File \u001b[1;32mc:\\Users\\pc\\Documents\\ArewaDS Machine Learning Assignments\\ArewaDS-Machine-Learning-Assignments\\Week3\\week10\\rlboard.py:60\u001b[0m, in \u001b[0;36mBoard.__init__\u001b[1;34m(self, width, height, size)\u001b[0m\n\u001b[0;32m     57\u001b[0m \u001b[39mself\u001b[39m\u001b[39m.\u001b[39mgrid_thickness \u001b[39m=\u001b[39m \u001b[39m1\u001b[39m\n\u001b[0;32m     58\u001b[0m \u001b[39mself\u001b[39m\u001b[39m.\u001b[39mgrid_line_type \u001b[39m=\u001b[39m cv2\u001b[39m.\u001b[39mLINE_AA\n\u001b[0;32m     59\u001b[0m \u001b[39mself\u001b[39m\u001b[39m.\u001b[39mpics \u001b[39m=\u001b[39m {\n\u001b[1;32m---> 60\u001b[0m     \u001b[39m\"\u001b[39m\u001b[39mwolf\u001b[39m\u001b[39m\"\u001b[39m : imload(\u001b[39m'\u001b[39;49m\u001b[39mimages/wolf.png\u001b[39;49m\u001b[39m'\u001b[39;49m,size\u001b[39m-\u001b[39;49m\u001b[39m4\u001b[39;49m),\n\u001b[0;32m     61\u001b[0m     \u001b[39m\"\u001b[39m\u001b[39mapple\u001b[39m\u001b[39m\"\u001b[39m : imload(\u001b[39m'\u001b[39m\u001b[39mimages/apple.png\u001b[39m\u001b[39m'\u001b[39m,size\u001b[39m-\u001b[39m\u001b[39m4\u001b[39m),\n\u001b[0;32m     62\u001b[0m     \u001b[39m\"\u001b[39m\u001b[39mhuman\u001b[39m\u001b[39m\"\u001b[39m : imload(\u001b[39m'\u001b[39m\u001b[39mimages/human.png\u001b[39m\u001b[39m'\u001b[39m,size\u001b[39m-\u001b[39m\u001b[39m4\u001b[39m)\n\u001b[0;32m     63\u001b[0m }\n\u001b[0;32m     64\u001b[0m \u001b[39mself\u001b[39m\u001b[39m.\u001b[39mhuman \u001b[39m=\u001b[39m (\u001b[39m0\u001b[39m,\u001b[39m0\u001b[39m)\n\u001b[0;32m     65\u001b[0m \u001b[39mself\u001b[39m\u001b[39m.\u001b[39mframe_no \u001b[39m=\u001b[39m \u001b[39m0\u001b[39m\n",
      "File \u001b[1;32mc:\\Users\\pc\\Documents\\ArewaDS Machine Learning Assignments\\ArewaDS-Machine-Learning-Assignments\\Week3\\week10\\rlboard.py:20\u001b[0m, in \u001b[0;36mimload\u001b[1;34m(fname, size)\u001b[0m\n\u001b[0;32m     18\u001b[0m \u001b[39mdef\u001b[39;00m \u001b[39mimload\u001b[39m(fname,size):\n\u001b[0;32m     19\u001b[0m     img \u001b[39m=\u001b[39m cv2\u001b[39m.\u001b[39mimread(fname)\n\u001b[1;32m---> 20\u001b[0m     img \u001b[39m=\u001b[39m cv2\u001b[39m.\u001b[39;49mcvtColor(img,cv2\u001b[39m.\u001b[39;49mCOLOR_BGR2RGB)\n\u001b[0;32m     21\u001b[0m     img \u001b[39m=\u001b[39m cv2\u001b[39m.\u001b[39mresize(img,(size,size),interpolation\u001b[39m=\u001b[39mcv2\u001b[39m.\u001b[39mINTER_LANCZOS4)\n\u001b[0;32m     22\u001b[0m     img \u001b[39m=\u001b[39m img \u001b[39m/\u001b[39m np\u001b[39m.\u001b[39mmax(img)\n",
      "\u001b[1;31merror\u001b[0m: OpenCV(4.7.0) D:\\a\\opencv-python\\opencv-python\\opencv\\modules\\imgproc\\src\\color.cpp:182: error: (-215:Assertion failed) !_src.empty() in function 'cv::cvtColor'\n"
     ]
    }
   ],
   "source": [
    "from rlboard import *\n",
    "\n",
    "width, height = 8,8\n",
    "m = Board(width,height)\n",
    "m.randomize(seed=13)\n",
    "m.plot()"
   ]
  },
  {
   "cell_type": "code",
   "execution_count": null,
   "metadata": {},
   "outputs": [],
   "source": [
    "import gym\n",
    "import tensorflow as tf\n",
    "from tensorflow.keras import layers, models\n",
    "\n",
    "env = gym.make('CartPole-v1')\n",
    "num_actions = env.action_space.n\n",
    "\n",
    "model = models.Sequential([\n",
    "    layers.Dense(24, input_shape=env.observation_space.shape, activation='relu'),\n",
    "    layers.Dense(24, activation='relu'),\n",
    "    layers.Dense(num_actions, activation='linear')\n",
    "])\n",
    "\n",
    "model.compile(optimizer=tf.keras.optimizers.Adam(learning_rate=0.001), loss='mse')\n",
    "\n",
    "def epsilon_greedy_policy(state, epsilon=0.1):\n",
    "    if np.random.rand() < epsilon:\n",
    "        return np.random.randint(num_actions)\n",
    "    return np.argmax(model.predict(state[np.newaxis]))\n",
    "\n",
    "# Training the DQN\n",
    "num_episodes = 1000\n",
    "batch_size = 32\n",
    "gamma = 0.99\n",
    "\n",
    "for episode in range(num_episodes):\n",
    "    state = env.reset()\n",
    "    state = np.reshape(state, [1, env.observation_space.shape[0]])\n",
    "    done = False\n",
    "\n",
    "    while not done:\n",
    "        action = epsilon_greedy_policy(state)\n",
    "        next_state, reward, done, _ = env.step(action)\n",
    "        next_state = np.reshape(next_state, [1, env.observation_space.shape[0]])\n",
    "        target = reward + gamma * np.amax(model.predict(next_state))\n",
    "        target_f = model.predict(state)\n",
    "        target_f[0][action] = target\n",
    "        model.fit(state, target_f, epochs=1, verbose=0)\n",
    "        state = next_state\n",
    "\n",
    "env.close()\n"
   ]
  }
 ],
 "metadata": {
  "kernelspec": {
   "display_name": "Python 3",
   "language": "python",
   "name": "python3"
  },
  "language_info": {
   "codemirror_mode": {
    "name": "ipython",
    "version": 3
   },
   "file_extension": ".py",
   "mimetype": "text/x-python",
   "name": "python",
   "nbconvert_exporter": "python",
   "pygments_lexer": "ipython3",
   "version": "3.11.1"
  },
  "orig_nbformat": 4
 },
 "nbformat": 4,
 "nbformat_minor": 2
}
