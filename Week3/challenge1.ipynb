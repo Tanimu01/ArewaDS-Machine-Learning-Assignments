{
 "cells": [
  {
   "cell_type": "code",
   "execution_count": null,
   "metadata": {},
   "outputs": [],
   "source": [
    "import numpy as np\n",
    "import pandas as pd\n",
    "import matplotlib.pyplot as plt\n",
    "#de = pd.read_csv('observations_texas_birds_in_2018.csv')\n",
    "df1=pd.read_csv('observations_texas_birds_in_2018.csv')\n",
    "category_count = df1.value_counts(df1['species_guess'].values, sort=True)\n",
    "plt.rcParams['figure.figsize'] = [6, 12]\n",
    "df2=df1['species_guess']\n",
    "category_count.plot.barh()\n",
    "plt.title('species_guess')\n",
    "df3=df1['taxon_family_name']\n",
    "category_count2=df1.value_counts(df1['taxon_family_name'].values, sort=True)\n",
    "category_count2.plot.barh()\n",
    "plt.title('taxon_family_name')"
   ]
  }
 ],
 "metadata": {
  "language_info": {
   "name": "python"
  },
  "orig_nbformat": 4
 },
 "nbformat": 4,
 "nbformat_minor": 2
}
