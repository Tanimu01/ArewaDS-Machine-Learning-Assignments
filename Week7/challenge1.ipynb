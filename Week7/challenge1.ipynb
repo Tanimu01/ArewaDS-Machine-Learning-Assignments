{
 "cells": [
  {
   "cell_type": "code",
   "execution_count": null,
   "metadata": {},
   "outputs": [],
   "source": []
  },
  {
   "cell_type": "code",
   "execution_count": 1,
   "metadata": {},
   "outputs": [
    {
     "name": "stdout",
     "output_type": "stream",
     "text": [
      "Welcome to the Conversational Bot. You can start a conversation by typing your message.\n",
      "Bot: Funny weather we've been having, isn't it?\n",
      "Bot: Let's change the subject.\n"
     ]
    }
   ],
   "source": [
    "import random\n",
    "\n",
    "# List of possible generic responses\n",
    "random_responses = [\"That is quite interesting, please tell me more.\",\n",
    "                    \"I see. Do go on.\",\n",
    "                    \"Why do you say that?\",\n",
    "                    \"Funny weather we've been having, isn't it?\",\n",
    "                    \"Let's change the subject.\",\n",
    "                    \"Did you catch the game last night?\"]\n",
    "\n",
    "\n",
    "# Print instructions\n",
    "print(\"Welcome to the Conversational Bot. You can start a conversation by typing your message.\")\n",
    "\n",
    "# Start loop\n",
    "while True:\n",
    "    # Accept user input\n",
    "    user_input = input(\"enter your respond \")\n",
    "\n",
    "    # Check for exit command\n",
    "    if user_input.lower() == \"exit\":\n",
    "        print(\"Exiting the conversation. Goodbye!\")\n",
    "        break\n",
    "\n",
    "    # Process user input and determine response\n",
    "    # In this case, a random generic response is selected\n",
    "    bot_response = random.choice(random_responses)\n",
    "\n",
    "    # Print response\n",
    "    print(\"Bot: \" + bot_response)\n"
   ]
  },
  {
   "attachments": {},
   "cell_type": "markdown",
   "metadata": {},
   "source": [
    "if input text contain game or weather\n",
    "  if text contain game\n",
    "    bot_response=random_responses[3]\n",
    "  else\n",
    "    bot_response=random_responses[5]\n",
    "\n",
    "  "
   ]
  }
 ],
 "metadata": {
  "kernelspec": {
   "display_name": "Python 3",
   "language": "python",
   "name": "python3"
  },
  "language_info": {
   "codemirror_mode": {
    "name": "ipython",
    "version": 3
   },
   "file_extension": ".py",
   "mimetype": "text/x-python",
   "name": "python",
   "nbconvert_exporter": "python",
   "pygments_lexer": "ipython3",
   "version": "3.11.1"
  },
  "orig_nbformat": 4
 },
 "nbformat": 4,
 "nbformat_minor": 2
}
