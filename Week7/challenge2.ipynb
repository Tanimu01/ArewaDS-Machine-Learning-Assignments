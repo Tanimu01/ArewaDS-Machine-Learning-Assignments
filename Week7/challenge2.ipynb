{
 "cells": [
  {
   "cell_type": "code",
   "execution_count": 1,
   "metadata": {},
   "outputs": [
    {
     "name": "stdout",
     "output_type": "stream",
     "text": [
      "Well, that sounds positive.  Can you tell me more about ?\n",
      "Da kyau, wannan yana da kyau.Za ku iya ba ni ƙarin bayani game da\n"
     ]
    }
   ],
   "source": [
    "from textblob import TextBlob\n",
    "from textblob.np_extractors import ConllExtractor\n",
    "from googletrans import Translator\n",
    "# Create an instance of ConllExtractor\n",
    "extractor = ConllExtractor()\n",
    "translator = Translator(service_urls=['translate.google.com'])\n",
    "# Accept a sentence from the user\n",
    "sentence = input(\"Enter a sentence: \")\n",
    "\n",
    "# Create a TextBlob object with the sentence and specify the noun phrase extractor\n",
    "blob = TextBlob(sentence, np_extractor=extractor)\n",
    "\n",
    "# Access the noun phrases\n",
    "noun_phrases = blob.noun_phrases\n",
    "if noun_phrases :\n",
    "# Print the noun phrases\n",
    " for phrase in noun_phrases:\n",
    "   pluralized_phrase = phrase.pluralize()\n",
    "   if blob.polarity <= -0.5:\n",
    "      response = \"Oh dear, that sounds bad. \"\n",
    "      print(response, 'Can you tell me more about ',pluralized_phrase,'?')\n",
    "      translated_sentence = translator.translate(response+\"Can you tell me more about\"+pluralized_phrase, dest='ha').text\n",
    "      print(translated_sentence)\n",
    "   elif blob.polarity <= 0:\n",
    "      response = \"Hmm, that's not great. \"\n",
    "      print(response, 'Can you tell me more about ',pluralized_phrase,'?')\n",
    "      translated_sentence = translator.translate(response+\"Can you tell me more about\"+pluralized_phrase, dest='ha').text\n",
    "      print(translated_sentence)\n",
    "   elif blob.polarity <= 0.5:\n",
    "      response = \"Well, that sounds positive. \"\n",
    "      print(response, 'Can you tell me more about ',pluralized_phrase,'?')\n",
    "      translated_sentence = translator.translate(response+\"Can you tell me more about\"+pluralized_phrase, dest='ha').text\n",
    "      print(translated_sentence)\n",
    "   elif blob.polarity <= 1:\n",
    "      response = \"Wow, that sounds great. \"\n",
    "      print(response, 'Can you tell me more about ',pluralized_phrase,'?')\n",
    "      translated_sentence = translator.translate(response+\"Can you tell me more about\"+pluralized_phrase, dest='ha').text\n",
    "      print(translated_sentence)\n",
    "   \n",
    "else:\n",
    "     if blob.polarity <= -0.5:\n",
    "      response = \"Oh dear, that sounds bad. \"\n",
    "      print(response, 'Can you tell me more about ?')\n",
    "      translated_sentence = translator.translate(response+\"Can you tell me more about\", dest='ha').text\n",
    "      print(translated_sentence)\n",
    "     elif blob.polarity <= 0:\n",
    "      response = \"Hmm, that's not great. \"\n",
    "      \n",
    "      print(response, 'Can you tell me more about ?')\n",
    "      translated_sentence = translator.translate(response+\"Can you tell me more about\", dest='ha').text\n",
    "      print(translated_sentence)\n",
    "     elif blob.polarity <= 0.5:\n",
    "      response = \"Well, that sounds positive. \"\n",
    "      print(response, 'Can you tell me more about ?')\n",
    "      translated_sentence = translator.translate(response+\"Can you tell me more about\", dest='ha').text\n",
    "      print(translated_sentence)\n",
    "     elif blob.polarity <= 1:\n",
    "      response = \"Wow, that sounds great. \"\n",
    "      print(response, 'Can you tell me more about ?')\n",
    "      translated_sentence = translator.translate(response+\"Can you tell me more about\", dest='ha').text\n",
    "      print(translated_sentence)\n"
   ]
  }
 ],
 "metadata": {
  "kernelspec": {
   "display_name": "Python 3",
   "language": "python",
   "name": "python3"
  },
  "language_info": {
   "codemirror_mode": {
    "name": "ipython",
    "version": 3
   },
   "file_extension": ".py",
   "mimetype": "text/x-python",
   "name": "python",
   "nbconvert_exporter": "python",
   "pygments_lexer": "ipython3",
   "version": "3.11.1"
  },
  "orig_nbformat": 4
 },
 "nbformat": 4,
 "nbformat_minor": 2
}
