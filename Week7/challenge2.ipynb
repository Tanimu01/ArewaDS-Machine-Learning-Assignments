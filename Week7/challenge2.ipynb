{
 "cells": [
  {
   "cell_type": "code",
   "execution_count": 33,
   "metadata": {},
   "outputs": [
    {
     "name": "stdout",
     "output_type": "stream",
     "text": [
      "Wow, that sounds great.  Can you tell me more about  cool dogs ?\n"
     ]
    }
   ],
   "source": [
    "from textblob import TextBlob\n",
    "from textblob.np_extractors import ConllExtractor\n",
    "\n",
    "# Create an instance of ConllExtractor\n",
    "extractor = ConllExtractor()\n",
    "\n",
    "# Accept a sentence from the user\n",
    "sentence = input(\"Enter a sentence: \")\n",
    "\n",
    "# Create a TextBlob object with the sentence and specify the noun phrase extractor\n",
    "blob = TextBlob(sentence, np_extractor=extractor)\n",
    "\n",
    "# Access the noun phrases\n",
    "noun_phrases = blob.noun_phrases\n",
    "if noun_phrases :\n",
    "# Print the noun phrases\n",
    " for phrase in noun_phrases:\n",
    "   pluralized_phrase = phrase.pluralize()\n",
    "   if blob.polarity <= -0.5:\n",
    "      response = \"Oh dear, that sounds bad. \"\n",
    "      print(response, 'Can you tell me more about ',pluralized_phrase,'?')\n",
    "   elif blob.polarity <= 0:\n",
    "      response = \"Hmm, that's not great. \"\n",
    "      print(response, 'Can you tell me more about ',pluralized_phrase,'?')\n",
    "   elif blob.polarity <= 0.5:\n",
    "      response = \"Well, that sounds positive. \"\n",
    "      print(response, 'Can you tell me more about ',pluralized_phrase,'?')\n",
    "   elif blob.polarity <= 1:\n",
    "      response = \"Wow, that sounds great. \"\n",
    "      print(response, 'Can you tell me more about ',pluralized_phrase,'?')\n",
    "   \n",
    "else:\n",
    "     if blob.polarity <= -0.5:\n",
    "      response = \"Oh dear, that sounds bad. \"\n",
    "      print(response, 'Can you tell me more about ?')\n",
    "     elif blob.polarity <= 0:\n",
    "      response = \"Hmm, that's not great. \"\n",
    "      print(response, 'Can you tell me more about ?')\n",
    "      \n",
    "     elif blob.polarity <= 0.5:\n",
    "      response = \"Well, that sounds positive. \"\n",
    "      print(response, 'Can you tell me more about ?')\n",
    "     elif blob.polarity <= 1:\n",
    "      response = \"Wow, that sounds great. \"\n",
    "      print(response, 'Can you tell me more about ?')\n"
   ]
  }
 ],
 "metadata": {
  "language_info": {
   "name": "python"
  },
  "orig_nbformat": 4
 },
 "nbformat": 4,
 "nbformat_minor": 2
}
